{
 "cells": [
  {
   "cell_type": "markdown",
   "metadata": {},
   "source": [
    "# Area of Environmental Justice Concern Prediction using Random Forest"
   ]
  },
  {
   "cell_type": "markdown",
   "metadata": {},
   "source": [
    "Title: Area of Environmental Justice Concern Prediction using Random Forest\n",
    "\n",
    "Author(s): Mattie Gisselbeck and Nikunj Chawla"
   ]
  },
  {
   "cell_type": "markdown",
   "metadata": {},
   "source": [
    "**Description**\n",
    "\n",
    "As the title implies, this project uses the Random Forest model to predict whether a tract in the Twin Cities is an area of environmental justice concern or not (binary classification) based on a variety of factors that we deemed relevant.\n",
    "\n",
    "**Data Sources**\n",
    "\n",
    "Metropolitan Council (2021). Equity Considerations for Place-Based Advocacy and Decisions in the Twin Cities Region. <https://gisdata.mn.gov/dataset/us-mn-state-metc-society-equity-considerations>\n",
    "\n",
    "United States Census Bureau (2010). Minnesota Census Tract (2010). <https://www.census.gov/cgi-bin/geo/shapefiles/index.php?year=2010&layergroup=Census+Tracts>"
   ]
  },
  {
   "cell_type": "markdown",
   "metadata": {},
   "source": [
    "## 1. Creating and Evaluating the Random Forest Model"
   ]
  },
  {
   "cell_type": "code",
   "execution_count": null,
   "metadata": {},
   "outputs": [],
   "source": [
    "# Import the libraries necessary to run the Random Forest Regression and evaluate the model\n",
    "import pandas as pd\n",
    "from sklearn.ensemble import RandomForestRegressor\n",
    "from sklearn.metrics import mean_squared_error, r2_score\n",
    "from sklearn.model_selection import train_test_split"
   ]
  },
  {
   "cell_type": "code",
   "execution_count": null,
   "metadata": {},
   "outputs": [],
   "source": [
    "# Import the dataset\n",
    "equity_considerations = pd.read_csv(\"data/equity_considerations_full.csv\")"
   ]
  },
  {
   "cell_type": "code",
   "execution_count": null,
   "metadata": {},
   "outputs": [],
   "source": [
    "# noinspection SpellCheckingInspection\n",
    "\"\"\"\n",
    "Uses only the columns deemed relevant, which are as follows:\n",
    "\n",
    "TR10: Census tract ID\n",
    "TR_EJ: Area of Environmental Justice Concern (1 = yes; 0 = no) (the column we are predicting)\n",
    "PMENA_ARAB: Percentage of Arab population\n",
    "PMENA_EGYP: Percentage of Egyptian population\n",
    "PMENA_IRAN: Percentage of Iranian population\n",
    "PMENA_ISRA: Percentage of Israeli population\n",
    "PMENA_LEBA: Percentage of Lebanese population\n",
    "PMENA_PALE: Percentage of Palestinian population\n",
    "PMENA_TURK: Percentage of Turkish population\n",
    "PBANC_AFRI: Percentage of Black or African American population\n",
    "PBANC_ETHI: Percentage of Ethiopian population\n",
    "PBANC_NIGE: Percentage of Nigerian population\n",
    "PAMINDNH: Percentage of American Indian population\n",
    "PBIPOC: Percentage of Black, Indigenous, and People of Color population\n",
    "PPLURALRAC: Percentage of the population who identify as multiracial\n",
    "PPOV185: Percentage of the population whose income is below 185% of the poverty line\n",
    "PHISPPOP: Percentage of Hispanic or Latino population\n",
    "HUTOT_ACS: Total housing units (American Community Survey estimate)\n",
    "HHTOT_ACS: Total households, same as occupied housing units (American Community Survey Estimate)\n",
    "POPTOT_ACS: Total Population\n",
    "\"\"\"\n",
    "\n",
    "# noinspection SpellCheckingInspection\n",
    "environmental_justice_columns = [\n",
    "    \"TR10\", \"TR_EJ\", \"PMENA_ARAB\", \"PMENA_EGYP\", \"PMENA_IRAN\", \"PMENA_ISRA\", \"PMENA_LEBA\", \"PMENA_PALE\", \"PMENA_TURK\",\n",
    "    \"PBANC_AFRI\", \"PBANC_ETHI\", \"PBANC_NIGE\", \"PAMINDNH\", \"PBIPOC\", \"PPLURALRAC\", \"PPOV185\", \"PHISPPOP\",\n",
    "    \"HUTOT_ACS\", \"HHTOT_ACS\", \"POPTOT_ACS\"\n",
    "]\n",
    "\n",
    "environmental_justice = equity_considerations[environmental_justice_columns]\n",
    "environmental_justice_tr10_string = environmental_justice[\"TR10\"].astype(str)\n",
    "environmental_justice.loc[:, [\"TR10\"]] = environmental_justice_tr10_string\n",
    "print(len(environmental_justice.index))\n",
    "environmental_justice.head()"
   ]
  },
  {
   "cell_type": "code",
   "execution_count": null,
   "metadata": {},
   "outputs": [],
   "source": [
    "# Drops all rows with missing values\n",
    "environmental_justice = environmental_justice.dropna()"
   ]
  },
  {
   "cell_type": "code",
   "execution_count": null,
   "metadata": {},
   "outputs": [],
   "source": [
    "# Splits the dataset into the independent variables (X) and the dependent variable (y)\n",
    "X = environmental_justice.drop(\"TR10\", axis = 1).drop(\"TR_EJ\", axis = 1)\n",
    "y = environmental_justice[\"TR_EJ\"]\n",
    "\n",
    "# Splits the dataset into training and testing sets\n",
    "X_train, X_test, y_train, y_test = train_test_split(X, y, test_size = 0.2, random_state = 42)"
   ]
  },
  {
   "cell_type": "code",
   "execution_count": null,
   "metadata": {},
   "outputs": [],
   "source": [
    "# Creates the Random Forest Regression model and fits it to the training set, using a fixed random state for reproducibility\n",
    "random_forest = RandomForestRegressor(n_estimators = 1000, random_state = 42)\n",
    "_ = random_forest.fit(X_train, y_train)"
   ]
  },
  {
   "cell_type": "code",
   "execution_count": null,
   "metadata": {},
   "outputs": [],
   "source": [
    "# Predicts the dependent variable (y) using the independent variables (X) in the testing set and evaluates the model\n",
    "random_forest.fit(X_train, y_train)\n",
    "y_pred = random_forest.predict(X_test)\n",
    "mse = mean_squared_error(y_test, y_pred)\n",
    "r2 = r2_score(y_test, y_pred)"
   ]
  },
  {
   "cell_type": "code",
   "execution_count": null,
   "metadata": {},
   "outputs": [],
   "source": [
    "# Prints the evaluation metrics\n",
    "print(\"Random Forest Model Evaluation:\")\n",
    "print(f\"MSE: {mse:.2f}\")\n",
    "print(f\"r2 score: {r2:.2f}\")"
   ]
  },
  {
   "cell_type": "code",
   "execution_count": null,
   "metadata": {},
   "outputs": [],
   "source": [
    "environmental_justice[\"TR_EJ_PREDICTED\"] = random_forest.predict(X)"
   ]
  },
  {
   "cell_type": "code",
   "execution_count": null,
   "metadata": {},
   "outputs": [],
   "source": [
    "# Import the libraries necessary to import the tract geometry\n",
    "import os\n",
    "\n",
    "os.environ[\"USE_PYGEOS\"] = \"0\"\n",
    "\n",
    "import geopandas as gpd"
   ]
  },
  {
   "cell_type": "code",
   "execution_count": null,
   "metadata": {},
   "outputs": [],
   "source": [
    "# Gets the 2010 census tract geometry\n",
    "tract_geometry = gpd.read_file(\"data/tl_2010_27_tract10/tl_2010_27_tract10.shp\")\n",
    "print(len(tract_geometry.index))\n",
    "tract_geometry.head()"
   ]
  },
  {
   "cell_type": "code",
   "execution_count": null,
   "metadata": {},
   "outputs": [],
   "source": [
    "# Inner join the tract geometry on GEOID10 with the environmental justice dataset on TR10\n",
    "# environmental_justice = environmental_justice.merge(tract_geometry, left_on = \"TR10\", right_on = \"GEOID10\")\n",
    "environmental_justice = tract_geometry.merge(environmental_justice, left_on = \"GEOID10\", right_on = \"TR10\")\n",
    "print(len(environmental_justice.index))\n",
    "environmental_justice.head()"
   ]
  },
  {
   "cell_type": "markdown",
   "metadata": {},
   "source": [
    "# 2. Data Visualization using folium"
   ]
  },
  {
   "cell_type": "code",
   "execution_count": null,
   "metadata": {},
   "outputs": [],
   "source": [
    "# Import packages for data visualization\n",
    "import folium\n",
    "from branca.colormap import LinearColormap\n",
    "import matplotlib.pyplot as plt"
   ]
  },
  {
   "cell_type": "code",
   "execution_count": null,
   "metadata": {},
   "outputs": [],
   "source": [
    "# Convert the GeoDataFrame to EPSG:4326 CRS and plot it\n",
    "tract_geometry.set_crs(\"EPSG:4326\", inplace = True, allow_override = True)\n",
    "\n",
    "tract_geometry.plot()"
   ]
  },
  {
   "cell_type": "code",
   "execution_count": null,
   "metadata": {},
   "outputs": [],
   "source": [
    "# Convert \"geometry\" column to GeoSeries\n",
    "environmental_justice[\"geometry\"] = gpd.GeoSeries(environmental_justice[\"geometry\"])\n",
    "\n",
    "# Calculate centroid coordinates\n",
    "centroid_lat = environmental_justice[\"geometry\"].apply(lambda x: x.centroid.y).mean()\n",
    "centroid_lon = environmental_justice[\"geometry\"].apply(lambda x: x.centroid.x).mean()"
   ]
  },
  {
   "cell_type": "code",
   "execution_count": null,
   "metadata": {},
   "outputs": [],
   "source": [
    "# Create folium map object\n",
    "ej_prediction_map = folium.Map(location = [centroid_lat, centroid_lon], zoom_start = 9)"
   ]
  },
  {
   "cell_type": "code",
   "execution_count": null,
   "metadata": {},
   "outputs": [],
   "source": [
    "# Define a linear color map with a gradient from white to blue\n",
    "colormap = LinearColormap(\n",
    "    colors = [(255, 255, 255, 0), \"blue\"],\n",
    "    index = [0, 1],\n",
    "    vmin = 0,\n",
    "    vmax = 1\n",
    ")"
   ]
  },
  {
   "cell_type": "code",
   "execution_count": null,
   "metadata": {},
   "outputs": [],
   "source": [
    "# Add census tracts to the map\n",
    "folium.GeoJson(\n",
    "    environmental_justice,\n",
    "    name = \"Area of Environment Concern Prediction\",\n",
    "    tooltip = folium.features.GeoJsonTooltip(\n",
    "        fields = [\"TR10\", \"TR_EJ_PREDICTED\"],\n",
    "        aliases = [\"Census Tract ID\", \"Prediction\"],\n",
    "        localize = True\n",
    "    ),\n",
    "    style_function = lambda feature: {\n",
    "        \"fillColor\": colormap(feature[\"properties\"][\"TR_EJ_PREDICTED\"]),\n",
    "        \"color\": \"black\",\n",
    "        \"weight\": 1,\n",
    "        \"fillOpacity\": 0.7\n",
    "    }\n",
    ").add_to(ej_prediction_map)"
   ]
  },
  {
   "cell_type": "code",
   "execution_count": null,
   "metadata": {},
   "outputs": [],
   "source": [
    "# Display folium map object\n",
    "ej_prediction_map"
   ]
  },
  {
   "cell_type": "code",
   "execution_count": null,
   "metadata": {},
   "outputs": [],
   "source": [
    "# Classify the census tracts into areas of environmental concern and areas not of environmental concern and present the total of each\n",
    "environmental_justice[\"TR_EJ_PREDICTED\"].apply(lambda x: 1 if x >= 0.5 else 0).value_counts()"
   ]
  },
  {
   "cell_type": "code",
   "execution_count": null,
   "metadata": {},
   "outputs": [],
   "source": [
    "# Histogram of the predicted environmental justice values\n",
    "environmental_justice[\"TR_EJ_PREDICTED\"].hist()\n",
    "\n",
    "plt.title(\"Predicted Area of Environmental Justice Distribution\", fontsize = 16)\n",
    "plt.xlabel(\"Prediction\", fontsize = 14)\n",
    "plt.ylabel(\"Frequency\", fontsize = 14)\n",
    "plt.show()"
   ]
  },
  {
   "cell_type": "markdown",
   "metadata": {},
   "source": [
    "This notebook stands as a \"data demonstration\" since it holds all the data required to complete the visualization and analysis. We were also able to complete the analysis and visualization of the environmental justice prediction data. We manipulated the data by cleaning the data of null values for use with the Random Forest model, merged the Random Forest predictions run on the relevant equity data, and merged that with census tract table for the geometry. We worked hard to finish the project, so we have already completed the analysis and visualization of the data."
   ]
  }
 ],
 "metadata": {
  "language_info": {
   "name": "python"
  }
 },
 "nbformat": 4,
 "nbformat_minor": 1
}
