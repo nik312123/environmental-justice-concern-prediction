{
 "cells": [
  {
   "cell_type": "markdown",
   "metadata": {},
   "source": [
    "# Area of Environmental Justice Concern Prediction using Random Forest"
   ]
  },
  {
   "cell_type": "markdown",
   "metadata": {},
   "source": [
    "Title: Area of Environmental Justice Concern Prediction using Random Forest\n",
    "\n",
    "Author(s): Mattie Gisselbeck and Nikunj Chawla"
   ]
  },
  {
   "attachments": {},
   "cell_type": "markdown",
   "metadata": {},
   "source": [
    "**Abstract**\n",
    "\n",
    "Redlining, a historic discriminatory practice that denied financial services such as loans to prevent minority groups from having access to certain areas based on their race or ethnicity, still affects the TCMA today. Historically redlined neighborhoods were and are areas of concentrated poverty. Low-income neighborhoods and BIPOC communities in the TCMA are heavily urbanized, have a higher potential exposures to pollutants, and more vulnerable to environmental factors. To combat this inequality, environmental justice seeks to address the inequity of environmental protection in their communities, attempts to restore this disparity.\n",
    "\n",
    "The objective of this project is to use a Random Forest model to help to predict areas of environmental justice concern to help bridge the gap of historical disparity in the TCMA. "
   ]
  },
  {
   "attachments": {},
   "cell_type": "markdown",
   "metadata": {},
   "source": [
    "**Data Sources**\n",
    "\n",
    "Metropolitan Council (2021). Equity Considerations for Place-Based Advocacy and Decisions in the Twin Cities Region. <https://gisdata.mn.gov/dataset/us-mn-state-metc-society-equity-considerations>\n",
    "\n",
    "United States Census Bureau (2010). Minnesota Census Tract (2010). <https://www.census.gov/cgi-bin/geo/shapefiles/index.php?year=2010&layergroup=Census+Tracts>"
   ]
  },
  {
   "cell_type": "markdown",
   "metadata": {},
   "source": [
    "## 1. Random Forest Model, Evaluation, and Preparation of the Data"
   ]
  },
  {
   "attachments": {},
   "cell_type": "markdown",
   "metadata": {},
   "source": [
    "### 1.1. Importing the Data and Creating the Random Forest Model"
   ]
  },
  {
   "attachments": {},
   "cell_type": "markdown",
   "metadata": {},
   "source": [
    "1.1.1. Importing the libraries necessary to run the Random Forest Regression and evaluate the model"
   ]
  },
  {
   "cell_type": "code",
   "execution_count": null,
   "metadata": {},
   "outputs": [],
   "source": [
    "import pandas as pd\n",
    "from sklearn.ensemble import RandomForestRegressor\n",
    "from sklearn.metrics import mean_squared_error, r2_score\n",
    "from sklearn.model_selection import train_test_split"
   ]
  },
  {
   "cell_type": "markdown",
   "metadata": {},
   "source": [
    "1.1.2 Importing the equity considerations dataset"
   ]
  },
  {
   "cell_type": "code",
   "execution_count": null,
   "metadata": {},
   "outputs": [],
   "source": [
    "equity_considerations_df = pd.read_csv(\"data/equity_considerations_full.csv\")"
   ]
  },
  {
   "attachments": {},
   "cell_type": "markdown",
   "metadata": {},
   "source": [
    "1.1.3 Extracting only the columns deemed relevant for the random forest model, converting the TR10 column to a string, and printing the number of rows and a few rows of the dataset.\n",
    "\n",
    "The columns deemed relevant are as follows:\n",
    "\n",
    "**ID**\n",
    "- TR10: Census Tract ID\n",
    "\n",
    "**Aggregate Demographics**\n",
    "- HUTOT_ACS: Total Housing Units (ACS Estimate)\n",
    "- HHTOT_ACS: Total Households (ACS Estimate)\n",
    "- POPTOT_ACS: Total Population\n",
    "\n",
    "**Low-Income Population**\n",
    "- PPOV185: Percentage of the Population whose Income is Below 185% of the Poverty Line\n",
    "\n",
    "\n",
    "**BIPOC Population**\n",
    "- PMENA_ARAB: Percentage of Arab Population\n",
    "- PMENA_EGYP: Percentage of Egyptian Population\n",
    "- PMENA_IRAN: Percentage of Iranian Population\n",
    "- PMENA_ISRA: Percentage of Israeli Population\n",
    "- PMENA_LEBA: Percentage of Lebanese Population\n",
    "- PMENA_PALE: Percentage of Palestinian Population\n",
    "- PMENA_TURK: Percentage of Turkish Population\n",
    "- PBANC_AFRI: Percentage of Black or African American Population\n",
    "- PBANC_ETHI: Percentage of Ethiopian Population\n",
    "- PBANC_NIGE: Percentage of Nigerian Population\n",
    "- PAMINDNH: Percentage of American Indian Population\n",
    "- PBANC_ETHI: Percentage of Ethiopian Population\n",
    "- PBANC_NIGE: Percentage of Nigerian Population\n",
    "- PAMINDNH: Percentage of American Indian Population\n",
    "- PBIPOC: Percentage of Black, Indigenous, and People of Color Population\n",
    "- PPLURALRAC: Percentage of the Population who Identify as Multiracial\n",
    "- PHISPPOP: Percentage of Hispanic or Latino Population\n",
    "\n"
   ]
  },
  {
   "cell_type": "code",
   "execution_count": null,
   "metadata": {},
   "outputs": [],
   "source": [
    "# The columns deemed relevant\n",
    "# noinspection SpellCheckingInspection\n",
    "environmental_justice_columns = [\n",
    "    \"TR10\", \"TR_EJ\", \"PMENA_ARAB\", \"PMENA_EGYP\", \"PMENA_IRAN\", \"PMENA_ISRA\", \"PMENA_LEBA\", \"PMENA_PALE\", \"PMENA_TURK\",\n",
    "    \"PBANC_AFRI\", \"PBANC_ETHI\", \"PBANC_NIGE\", \"PAMINDNH\", \"PBIPOC\", \"PPLURALRAC\", \"PPOV185\", \"PHISPPOP\",\n",
    "    \"HUTOT_ACS\", \"HHTOT_ACS\", \"POPTOT_ACS\"\n",
    "]\n",
    "\n",
    "# Get the columns deemed relevant\n",
    "environmental_justice_df = equity_considerations_df[environmental_justice_columns]\n",
    "\n",
    "# Converts the TR10 column to a string\n",
    "environmental_justice_tr10_string = environmental_justice_df[\"TR10\"].astype(str)\n",
    "environmental_justice_df.loc[:, [\"TR10\"]] = environmental_justice_tr10_string\n",
    "\n",
    "# Prints the number of rows and a few rows of the dataset\n",
    "print(len(environmental_justice_df.index))\n",
    "environmental_justice_df.head()"
   ]
  },
  {
   "cell_type": "markdown",
   "metadata": {},
   "source": [
    "1.1.4 Drops all rows with missing values"
   ]
  },
  {
   "cell_type": "code",
   "execution_count": null,
   "metadata": {},
   "outputs": [],
   "source": [
    "environmental_justice_df = environmental_justice_df.dropna()"
   ]
  },
  {
   "cell_type": "markdown",
   "metadata": {},
   "source": [
    "1.1.5 Splits the dataset into the independent variables (X) and the dependent variable (y) and splits the dataset into training and testing sets"
   ]
  },
  {
   "cell_type": "code",
   "execution_count": null,
   "metadata": {},
   "outputs": [],
   "source": [
    "# Splits the dataset into the independent variables (X) and the dependent variable (y)\n",
    "X = environmental_justice_df.drop(\"TR10\", axis = 1).drop(\"TR_EJ\", axis = 1)\n",
    "y = environmental_justice_df[\"TR_EJ\"]\n",
    "\n",
    "# Splits the dataset into training and testing sets\n",
    "X_train, X_test, y_train, y_test = train_test_split(X, y, test_size = 0.2, random_state = 42)"
   ]
  },
  {
   "cell_type": "markdown",
   "metadata": {},
   "source": [
    "1.1.6 Creates the Random Forest Regression model and fits it to the training set, using a fixed random state for reproducibility (performs very similarly even without a fixed random state)"
   ]
  },
  {
   "cell_type": "code",
   "execution_count": null,
   "metadata": {},
   "outputs": [],
   "source": [
    "random_forest_model = RandomForestRegressor(n_estimators = 1000, random_state = 42)\n",
    "_ = random_forest_model.fit(X_train, y_train)"
   ]
  },
  {
   "cell_type": "markdown",
   "metadata": {},
   "source": [
    "### 1.2 Evaluating the Random Forest Model"
   ]
  },
  {
   "cell_type": "markdown",
   "metadata": {},
   "source": [
    "1.2.1 Predicts the dependent variable (y) using the independent variables (X) in the testing set and evaluates the model"
   ]
  },
  {
   "cell_type": "code",
   "execution_count": null,
   "metadata": {},
   "outputs": [],
   "source": [
    "y_test_predicted = random_forest_model.predict(X_test)\n",
    "mse = mean_squared_error(y_test, y_test_predicted)\n",
    "r2 = r2_score(y_test, y_test_predicted)"
   ]
  },
  {
   "cell_type": "markdown",
   "metadata": {},
   "source": [
    "1.2.2 Prints the evaluation metrics"
   ]
  },
  {
   "cell_type": "code",
   "execution_count": null,
   "metadata": {},
   "outputs": [],
   "source": [
    "print(\"Random Forest Model Evaluation:\")\n",
    "print(f\"MSE: {mse:.2f}\")\n",
    "print(f\"r2 score: {r2:.2f}\")"
   ]
  },
  {
   "cell_type": "markdown",
   "metadata": {},
   "source": [
    "1.2.3 Adds the predicted TR_EJ column to the environmental justice dataset"
   ]
  },
  {
   "cell_type": "code",
   "execution_count": null,
   "metadata": {},
   "outputs": [],
   "source": [
    "environmental_justice_df[\"TR_EJ_PREDICTED\"] = random_forest_model.predict(X)"
   ]
  },
  {
   "cell_type": "markdown",
   "metadata": {},
   "source": [
    "### 1.3 Merging the environmental justice dataset with the census tract geometry"
   ]
  },
  {
   "cell_type": "markdown",
   "metadata": {},
   "source": [
    "1.3.1 Imports the libraries necessary to import the tract geometry"
   ]
  },
  {
   "cell_type": "code",
   "execution_count": null,
   "metadata": {},
   "outputs": [],
   "source": [
    "# Import the libraries necessary to import the tract geometry\n",
    "import os\n",
    "\n",
    "# Set the USE_PYGEOS environment variable to 0 to use shapely instead of pygeos\n",
    "os.environ[\"USE_PYGEOS\"] = \"0\"\n",
    "\n",
    "import geopandas as gpd"
   ]
  },
  {
   "cell_type": "markdown",
   "metadata": {},
   "source": [
    "1.3.2 Imports the census tract geometry, printing the number of rows and a few rows of the dataset"
   ]
  },
  {
   "cell_type": "code",
   "execution_count": null,
   "metadata": {},
   "outputs": [],
   "source": [
    "# Gets the 2010 census tract geometry\n",
    "census_tract_geometry_gdf = gpd.read_file(\"data/tl_2010_27_tract10/tl_2010_27_tract10.shp\")\n",
    "print(len(census_tract_geometry_gdf.index))\n",
    "census_tract_geometry_gdf.head()"
   ]
  },
  {
   "cell_type": "markdown",
   "metadata": {},
   "source": [
    "1.3.3 Merges the tract geometry on GEOID10 with the environmental justice dataset on TR10, printing the number of rows and a few rows of the dataset"
   ]
  },
  {
   "cell_type": "code",
   "execution_count": null,
   "metadata": {},
   "outputs": [],
   "source": [
    "environmental_justice_df = census_tract_geometry_gdf.merge(environmental_justice_df, left_on = \"GEOID10\", right_on = \"TR10\")\n",
    "print(len(environmental_justice_df.index))\n",
    "environmental_justice_df.head()"
   ]
  },
  {
   "cell_type": "markdown",
   "metadata": {},
   "source": [
    "# 2. Data Visualization"
   ]
  },
  {
   "cell_type": "markdown",
   "metadata": {},
   "source": [
    "2.1 Imports the libraries necessary to visualize the data"
   ]
  },
  {
   "cell_type": "code",
   "execution_count": null,
   "metadata": {},
   "outputs": [],
   "source": [
    "import folium\n",
    "from branca.colormap import LinearColormap\n",
    "import matplotlib.pyplot as plt"
   ]
  },
  {
   "cell_type": "markdown",
   "metadata": {},
   "source": [
    "2.2 Converts the census tract dataset to EPSG:4326 CRS and plots it"
   ]
  },
  {
   "cell_type": "code",
   "execution_count": null,
   "metadata": {},
   "outputs": [],
   "source": [
    "census_tract_geometry_gdf = census_tract_geometry_gdf.to_crs(\"EPSG:4326\")\n",
    "census_tract_geometry_gdf.plot()"
   ]
  },
  {
   "cell_type": "markdown",
   "metadata": {},
   "source": [
    "2.3 Converts the environmental justice dataset to EPSG:4326 CRS and plots it"
   ]
  },
  {
   "cell_type": "code",
   "execution_count": null,
   "metadata": {},
   "outputs": [],
   "source": [
    "environmental_justice_df = environmental_justice_df.to_crs(\"EPSG:4326\")\n",
    "environmental_justice_df.plot()"
   ]
  },
  {
   "cell_type": "markdown",
   "metadata": {},
   "source": [
    "2.4 Calculate the centroid coordinates of the environmental justice dataset geometry tracts"
   ]
  },
  {
   "cell_type": "code",
   "execution_count": null,
   "metadata": {},
   "outputs": [],
   "source": [
    "centroid_lat = environmental_justice_df[\"geometry\"].apply(lambda x: x.centroid.y).mean()\n",
    "centroid_lon = environmental_justice_df[\"geometry\"].apply(lambda x: x.centroid.x).mean()"
   ]
  },
  {
   "cell_type": "markdown",
   "metadata": {},
   "source": [
    "2.5 Creates a folium map object at the centroid coordinates of the environmental justice dataset geometry tracts"
   ]
  },
  {
   "cell_type": "code",
   "execution_count": null,
   "metadata": {},
   "outputs": [],
   "source": [
    "ej_prediction_map = folium.Map(location = [centroid_lat, centroid_lon], zoom_start = 9)"
   ]
  },
  {
   "cell_type": "markdown",
   "metadata": {},
   "source": [
    "2.6 Creates a linear color map with a gradient from transparent to blue"
   ]
  },
  {
   "cell_type": "code",
   "execution_count": null,
   "metadata": {},
   "outputs": [],
   "source": [
    "colormap = LinearColormap(\n",
    "    colors = [(255, 255, 255, 0), (121, 17, 27, 255)],\n",
    "    index = [0, 1],\n",
    "    vmin = 0,\n",
    "    vmax = 1\n",
    ")"
   ]
  },
  {
   "cell_type": "markdown",
   "metadata": {},
   "source": [
    "2.7 Add the environmental justice dataset to the map, using the tract IDs and the predicted TR_EJ column as the tooltip and using the predicted TR_EJ column as a linear interpolation between transparent and blue for the fill color"
   ]
  },
  {
   "cell_type": "code",
   "execution_count": null,
   "metadata": {},
   "outputs": [],
   "source": [
    "_ = folium.GeoJson(\n",
    "    environmental_justice_df,\n",
    "    name = \"Area of Environment Concern Prediction\",\n",
    "    tooltip = folium.features.GeoJsonTooltip(\n",
    "        fields = [\"TR10\", \"TR_EJ_PREDICTED\"],\n",
    "        aliases = [\"Census Tract ID\", \"Prediction\"],\n",
    "        localize = True\n",
    "    ),\n",
    "    style_function = lambda feature: {\n",
    "        \"fillColor\": colormap(feature[\"properties\"][\"TR_EJ_PREDICTED\"]),\n",
    "        \"color\": \"black\",\n",
    "        \"weight\": 1,\n",
    "        \"fillOpacity\": 0.7\n",
    "    }\n",
    ").add_to(ej_prediction_map)"
   ]
  },
  {
   "cell_type": "markdown",
   "metadata": {},
   "source": [
    "2.8 Display the map that predicts whether each census tract is an area of environmental justice concern with fully blue meaning that a census tract is predicted to be an area of environmental justice concern and fully transparent meaning the opposite"
   ]
  },
  {
   "cell_type": "code",
   "execution_count": null,
   "metadata": {},
   "outputs": [],
   "source": [
    "ej_prediction_map"
   ]
  },
  {
   "cell_type": "markdown",
   "metadata": {},
   "source": [
    "2.9 Classify the census tracts into areas of environmental concern and areas not of environmental concern and present the total of each"
   ]
  },
  {
   "cell_type": "code",
   "execution_count": null,
   "metadata": {},
   "outputs": [],
   "source": [
    "environmental_justice_df[\"TR_EJ_PREDICTED\"].apply(lambda x: 1 if x >= 0.5 else 0).value_counts()"
   ]
  },
  {
   "cell_type": "markdown",
   "metadata": {},
   "source": [
    "2.10 Histogram of the predicted environmental justice values"
   ]
  },
  {
   "cell_type": "code",
   "execution_count": null,
   "metadata": {},
   "outputs": [],
   "source": [
    "environmental_justice_df[\"TR_EJ_PREDICTED\"].hist()\n",
    "\n",
    "plt.title(\"Predicted Area of Environmental Justice Distribution\", fontsize = 16)\n",
    "plt.xlabel(\"Prediction\", fontsize = 14)\n",
    "plt.ylabel(\"Frequency\", fontsize = 14)\n",
    "plt.show()"
   ]
  }
 ],
 "metadata": {
  "language_info": {
   "name": "python"
  }
 },
 "nbformat": 4,
 "nbformat_minor": 1
}
