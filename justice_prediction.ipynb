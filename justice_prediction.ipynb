{
 "cells": [
  {
   "cell_type": "markdown",
   "metadata": {
    "collapsed": false
   },
   "source": [
    "# Area of Environmental Justice Concern Prediction using the Random Forest Model"
   ]
  },
  {
   "cell_type": "markdown",
   "metadata": {
    "collapsed": false
   },
   "source": [
    "As the title implies, this project uses Random Forest Model to predict whether a tract in the Twin Cities is an area of environmental justice concern or not (binary classification) based on a variety of factors that we deemed relevant.\n",
    "\n",
    "The project uses the [Equity Considerations for Place-Based Advocacy and Decisions in the Twin Cities Region dataset](https://gisdata.mn.gov/dataset/us-mn-state-metc-society-equity-considerations)."
   ]
  },
  {
   "cell_type": "markdown",
   "metadata": {
    "collapsed": false
   },
   "source": [
    "## 1. Creating and Evaluating the Random Forest Model"
   ]
  },
  {
   "cell_type": "code",
   "execution_count": null,
   "metadata": {
    "ExecuteTime": {
     "end_time": "2023-04-11T12:10:39.338999Z",
     "start_time": "2023-04-11T12:10:39.336295Z"
    }
   },
   "outputs": [],
   "source": [
    "# Import the libraries necessary to run the Random Forest Regression and evaluate the model\n",
    "import pandas as pd\n",
    "from sklearn.ensemble import RandomForestRegressor\n",
    "from sklearn.metrics import mean_squared_error, r2_score\n",
    "from sklearn.model_selection import train_test_split"
   ]
  },
  {
   "cell_type": "code",
   "execution_count": null,
   "metadata": {
    "ExecuteTime": {
     "end_time": "2023-04-11T12:10:39.404898Z",
     "start_time": "2023-04-11T12:10:39.337375Z"
    }
   },
   "outputs": [],
   "source": [
    "# Import the dataset\n",
    "equity_considerations = pd.read_csv(\"data/equity_considerations_full.csv\")"
   ]
  },
  {
   "cell_type": "code",
   "execution_count": null,
   "metadata": {
    "ExecuteTime": {
     "end_time": "2023-04-11T12:10:39.411620Z",
     "start_time": "2023-04-11T12:10:39.410481Z"
    }
   },
   "outputs": [],
   "source": [
    "\"\"\"\n",
    "Uses only the columns deemed relevant, which are as follows:\n",
    "\n",
    "TR_EJ: Area of Environmental Justice Concern (1 = yes; 0 = no) (the column we are predicting)\n",
    "\n",
    "PMENA_ARAB: Percentage of Arab population\n",
    "PMENA_EGYP: Percentage of Egyptian population\n",
    "PMENA_IRAN: Percentage of Iranian population\n",
    "PMENA_ISRA: Percentage of Israeli population\n",
    "PMENA_LEBA: Percentage of Lebanese population\n",
    "PMENA_PALE: Percentage of Palestinian population\n",
    "PMENA_TURK: Percentage of Turkish population\n",
    "PBANC_AFRI: Percentage of Black or African American population\n",
    "PBANC_ETHI: Percentage of Ethiopian population\n",
    "PBANC_NIGE: Percentage of Nigerian population\n",
    "PAMINDNH: Percentage of American Indian population\n",
    "PBIPOC: Percentage of Black, Indigenous, and People of Color population\n",
    "PPLURALRAC: Percentage of the population who identify as multiracial\n",
    "PPOV185: Percentage of the population whose income is below 185% of the poverty line\n",
    "PHISPPOP: Percentage of Hispanic or Latino population\n",
    "HUTOT_ACS: Total housing units (American Community Survey estimate)\n",
    "HHTOT_ACS: Total households, same as occupied housing units (American Community Survey estimate)\n",
    "POPTOT_ACS: Total population\n",
    "\"\"\"\n",
    "environmental_justice_columns = [\n",
    "    \"TR_EJ\", \"PMENA_ARAB\", \"PMENA_EGYP\", \"PMENA_IRAN\", \"PMENA_ISRA\", \"PMENA_LEBA\", \"PMENA_PALE\", \"PMENA_TURK\",\n",
    "    \"PBANC_AFRI\", \"PBANC_ETHI\", \"PBANC_NIGE\", \"PAMINDNH\", \"PBIPOC\", \"PPLURALRAC\", \"PPOV185\", \"PHISPPOP\",\n",
    "    \"HUTOT_ACS\", \"HHTOT_ACS\", \"POPTOT_ACS\"\n",
    "]\n",
    "\n",
    "environmental_justice = equity_considerations[environmental_justice_columns]"
   ]
  },
  {
   "cell_type": "code",
   "execution_count": null,
   "metadata": {
    "ExecuteTime": {
     "end_time": "2023-04-11T12:10:39.417322Z",
     "start_time": "2023-04-11T12:10:39.412680Z"
    }
   },
   "outputs": [],
   "source": [
    "# Drops all rows with missing values\n",
    "environmental_justice = environmental_justice.dropna()"
   ]
  },
  {
   "cell_type": "code",
   "execution_count": null,
   "metadata": {
    "ExecuteTime": {
     "end_time": "2023-04-11T12:10:39.424731Z",
     "start_time": "2023-04-11T12:10:39.423427Z"
    }
   },
   "outputs": [],
   "source": [
    "# Splits the dataset into the independent variables (X) and the dependent variable (y)\n",
    "X = environmental_justice.drop(\"TR_EJ\", axis = 1)\n",
    "y = environmental_justice[\"TR_EJ\"]\n",
    "\n",
    "# Splits the dataset into training and testing sets\n",
    "X_train, X_test, y_train, y_test = train_test_split(X, y, test_size = 0.2, random_state = 42)"
   ]
  },
  {
   "cell_type": "code",
   "execution_count": null,
   "metadata": {
    "ExecuteTime": {
     "end_time": "2023-04-11T12:10:40.689574Z",
     "start_time": "2023-04-11T12:10:39.425438Z"
    }
   },
   "outputs": [],
   "source": [
    "# Creates the Random Forest Regression model and fits it to the training set, using a fixed random state for reproducibility\n",
    "random_forest = RandomForestRegressor(n_estimators = 1000, random_state = 42)\n",
    "_ = random_forest.fit(X_train, y_train)"
   ]
  },
  {
   "cell_type": "code",
   "execution_count": null,
   "metadata": {
    "ExecuteTime": {
     "end_time": "2023-04-11T12:10:41.905975Z",
     "start_time": "2023-04-11T12:10:40.753218Z"
    }
   },
   "outputs": [],
   "source": [
    "# Predicts the dependent variable (y) using the independent variables (X) in the testing set and evaluates the model\n",
    "random_forest.fit(X_train, y_train)\n",
    "y_pred = random_forest.predict(X_test)\n",
    "mse = mean_squared_error(y_test, y_pred)\n",
    "r2 = r2_score(y_test, y_pred)"
   ]
  },
  {
   "cell_type": "code",
   "execution_count": null,
   "metadata": {
    "ExecuteTime": {
     "end_time": "2023-04-11T12:10:41.908409Z",
     "start_time": "2023-04-11T12:10:41.906516Z"
    }
   },
   "outputs": [],
   "source": [
    "# Prints the evaluation metrics\n",
    "print(\"Random Forest Model evaluation:\")\n",
    "print(f\"MSE: {mse:.2f}\")\n",
    "print(f\"r2 score: {r2:.2f}\")"
   ]
  }
 ],
 "metadata": {
  "kernelspec": {
   "display_name": "Python 3",
   "language": "python",
   "name": "python3"
  },
  "language_info": {
   "codemirror_mode": {
    "name": "ipython",
    "version": 2
   },
   "file_extension": ".py",
   "mimetype": "text/x-python",
   "name": "python",
   "nbconvert_exporter": "python",
   "pygments_lexer": "ipython2",
   "version": "2.7.6"
  }
 },
 "nbformat": 4,
 "nbformat_minor": 0
}
