{
 "cells": [
  {
   "cell_type": "markdown",
   "metadata": {
    "collapsed": false
   },
   "source": [
    "# Area of Environmental Justice Concern Prediction using the Random Forest Model"
   ]
  },
  {
   "cell_type": "markdown",
   "metadata": {
    "collapsed": false
   },
   "source": [
    "As the title implies, this project uses Random Forest Model to predict whether a tract in the Twin Cities is an area of environmental justice concern or not (binary classification) based on a variety of factors that we deemed relevant.\n",
    "\n",
    "The project uses the [Equity Considerations for Place-Based Advocacy and Decisions in the Twin Cities Region dataset](https://gisdata.mn.gov/dataset/us-mn-state-metc-society-equity-considerations)."
   ]
  },
  {
   "cell_type": "markdown",
   "metadata": {
    "collapsed": false
   },
   "source": [
    "## 1. Creating and Evaluating the Random Forest Model"
   ]
  },
  {
   "cell_type": "code",
   "execution_count": null,
   "metadata": {
    "ExecuteTime": {
     "end_time": "2023-04-11T21:30:48.177015Z",
     "start_time": "2023-04-11T21:30:48.167541Z"
    }
   },
   "outputs": [],
   "source": [
    "# Import the libraries necessary to run the Random Forest Regression and evaluate the model\n",
    "import pandas as pd\n",
    "from sklearn.ensemble import RandomForestRegressor\n",
    "from sklearn.metrics import mean_squared_error, r2_score\n",
    "from sklearn.model_selection import train_test_split"
   ]
  },
  {
   "cell_type": "code",
   "execution_count": null,
   "metadata": {
    "ExecuteTime": {
     "end_time": "2023-04-11T21:30:48.202694Z",
     "start_time": "2023-04-11T21:30:48.168501Z"
    }
   },
   "outputs": [],
   "source": [
    "# Import the dataset\n",
    "equity_considerations = pd.read_csv(\"data/equity_considerations_full.csv\")"
   ]
  },
  {
   "cell_type": "code",
   "execution_count": null,
   "metadata": {
    "ExecuteTime": {
     "end_time": "2023-04-11T21:30:48.219551Z",
     "start_time": "2023-04-11T21:30:48.207529Z"
    }
   },
   "outputs": [],
   "source": [
    "\"\"\"\n",
    "Uses only the columns deemed relevant, which are as follows:\n",
    "\n",
    "TR_EJ: Area of Environmental Justice Concern (1 = yes; 0 = no) (the column we are predicting)\n",
    "\n",
    "PMENA_ARAB: Percentage of Arab population\n",
    "PMENA_EGYP: Percentage of Egyptian population\n",
    "PMENA_IRAN: Percentage of Iranian population\n",
    "PMENA_ISRA: Percentage of Israeli population\n",
    "PMENA_LEBA: Percentage of Lebanese population\n",
    "PMENA_PALE: Percentage of Palestinian population\n",
    "PMENA_TURK: Percentage of Turkish population\n",
    "PBANC_AFRI: Percentage of Black or African American population\n",
    "PBANC_ETHI: Percentage of Ethiopian population\n",
    "PBANC_NIGE: Percentage of Nigerian population\n",
    "PAMINDNH: Percentage of American Indian population\n",
    "PBIPOC: Percentage of Black, Indigenous, and People of Color population\n",
    "PPLURALRAC: Percentage of the population who identify as multiracial\n",
    "PPOV185: Percentage of the population whose income is below 185% of the poverty line\n",
    "PHISPPOP: Percentage of Hispanic or Latino population\n",
    "HUTOT_ACS: Total housing units (American Community Survey estimate)\n",
    "HHTOT_ACS: Total households, same as occupied housing units (American Community Survey estimate)\n",
    "POPTOT_ACS: Total population\n",
    "\"\"\"\n",
    "environmental_justice_columns = [\n",
    "    \"TR10\", \"TR_EJ\", \"PMENA_ARAB\", \"PMENA_EGYP\", \"PMENA_IRAN\", \"PMENA_ISRA\", \"PMENA_LEBA\", \"PMENA_PALE\", \"PMENA_TURK\",\n",
    "    \"PBANC_AFRI\", \"PBANC_ETHI\", \"PBANC_NIGE\", \"PAMINDNH\", \"PBIPOC\", \"PPLURALRAC\", \"PPOV185\", \"PHISPPOP\",\n",
    "    \"HUTOT_ACS\", \"HHTOT_ACS\", \"POPTOT_ACS\"\n",
    "]\n",
    "\n",
    "environmental_justice = equity_considerations[environmental_justice_columns]\n",
    "environmental_justice_tr10_string = environmental_justice[\"TR10\"].astype(str)\n",
    "environmental_justice.loc[:, [\"TR10\"]] = environmental_justice_tr10_string\n",
    "print(len(environmental_justice.index))\n",
    "environmental_justice.head()"
   ]
  },
  {
   "cell_type": "code",
   "execution_count": null,
   "metadata": {
    "ExecuteTime": {
     "end_time": "2023-04-11T21:30:48.222566Z",
     "start_time": "2023-04-11T21:30:48.219696Z"
    }
   },
   "outputs": [],
   "source": [
    "# Drops all rows with missing values\n",
    "environmental_justice = environmental_justice.dropna()"
   ]
  },
  {
   "cell_type": "code",
   "execution_count": null,
   "metadata": {
    "ExecuteTime": {
     "end_time": "2023-04-11T21:30:48.244010Z",
     "start_time": "2023-04-11T21:30:48.224509Z"
    }
   },
   "outputs": [],
   "source": [
    "# Splits the dataset into the independent variables (X) and the dependent variable (y)\n",
    "X = environmental_justice.drop(\"TR10\", axis = 1).drop(\"TR_EJ\", axis = 1)\n",
    "y = environmental_justice[\"TR_EJ\"]\n",
    "\n",
    "# Splits the dataset into training and testing sets\n",
    "X_train, X_test, y_train, y_test = train_test_split(X, y, test_size = 0.2, random_state = 42)"
   ]
  },
  {
   "cell_type": "code",
   "execution_count": null,
   "metadata": {
    "ExecuteTime": {
     "end_time": "2023-04-11T21:30:49.522645Z",
     "start_time": "2023-04-11T21:30:48.229728Z"
    }
   },
   "outputs": [],
   "source": [
    "# Creates the Random Forest Regression model and fits it to the training set, using a fixed random state for reproducibility\n",
    "random_forest = RandomForestRegressor(n_estimators = 1000, random_state = 42)\n",
    "_ = random_forest.fit(X_train, y_train)"
   ]
  },
  {
   "cell_type": "code",
   "execution_count": null,
   "metadata": {
    "ExecuteTime": {
     "end_time": "2023-04-11T21:30:50.778122Z",
     "start_time": "2023-04-11T21:30:49.523668Z"
    }
   },
   "outputs": [],
   "source": [
    "# Predicts the dependent variable (y) using the independent variables (X) in the testing set and evaluates the model\n",
    "random_forest.fit(X_train, y_train)\n",
    "y_pred = random_forest.predict(X_test)\n",
    "mse = mean_squared_error(y_test, y_pred)\n",
    "r2 = r2_score(y_test, y_pred)"
   ]
  },
  {
   "cell_type": "code",
   "execution_count": null,
   "metadata": {
    "ExecuteTime": {
     "end_time": "2023-04-11T21:30:50.780741Z",
     "start_time": "2023-04-11T21:30:50.779209Z"
    }
   },
   "outputs": [],
   "source": [
    "# Prints the evaluation metrics\n",
    "print(\"Random Forest Model evaluation:\")\n",
    "print(f\"MSE: {mse:.2f}\")\n",
    "print(f\"r2 score: {r2:.2f}\")"
   ]
  },
  {
   "cell_type": "code",
   "execution_count": null,
   "metadata": {
    "ExecuteTime": {
     "end_time": "2023-04-11T21:30:50.789925Z",
     "start_time": "2023-04-11T21:30:50.780603Z"
    }
   },
   "outputs": [],
   "source": [
    "# Import the libraries necessary to import the tract geometry\n",
    "import os\n",
    "\n",
    "os.environ[\"USE_PYGEOS\"] = \"0\"\n",
    "\n",
    "import geopandas as gpd"
   ]
  },
  {
   "cell_type": "code",
   "execution_count": null,
   "metadata": {
    "ExecuteTime": {
     "end_time": "2023-04-11T21:30:51.266920Z",
     "start_time": "2023-04-11T21:30:50.845231Z"
    }
   },
   "outputs": [],
   "source": [
    "# Gets the 2010 census tract geometry\n",
    "tract_geometry = gpd.read_file(\"data/tl_2010_27_tract10/tl_2010_27_tract10.shp\")\n",
    "print(len(tract_geometry.index))\n",
    "tract_geometry.head()"
   ]
  },
  {
   "cell_type": "code",
   "execution_count": null,
   "metadata": {
    "ExecuteTime": {
     "end_time": "2023-04-11T21:30:51.299091Z",
     "start_time": "2023-04-11T21:30:51.268792Z"
    }
   },
   "outputs": [],
   "source": [
    "# Inner join the tract geometry on GEOID10 with the environmental justice dataset on TR10\n",
    "environmental_justice = environmental_justice.merge(tract_geometry, left_on = \"TR10\", right_on = \"GEOID10\")\n",
    "print(len(environmental_justice.index))\n",
    "environmental_justice.head()"
   ]
  }
 ],
 "metadata": {
  "kernelspec": {
   "display_name": "Python 3",
   "language": "python",
   "name": "python3"
  },
  "language_info": {
   "codemirror_mode": {
    "name": "ipython",
    "version": 2
   },
   "file_extension": ".py",
   "mimetype": "text/x-python",
   "name": "python",
   "nbconvert_exporter": "python",
   "pygments_lexer": "ipython2",
   "version": "2.7.6"
  }
 },
 "nbformat": 4,
 "nbformat_minor": 0
}
